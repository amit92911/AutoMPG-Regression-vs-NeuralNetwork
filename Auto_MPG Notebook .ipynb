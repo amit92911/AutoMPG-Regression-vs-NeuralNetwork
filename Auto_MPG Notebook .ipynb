{
 "cells": [
  {
   "cell_type": "code",
   "execution_count": 1,
   "id": "69f0fb51",
   "metadata": {},
   "outputs": [],
   "source": [
    "import pandas as pd\n",
    "import numpy as np\n",
    "import matplotlib.pyplot as plt\n",
    "import seaborn as sns"
   ]
  },
  {
   "cell_type": "code",
   "execution_count": 2,
   "id": "cedbcb80",
   "metadata": {},
   "outputs": [],
   "source": [
    "from sklearn.preprocessing import StandardScaler\n",
    "from sklearn.model_selection import train_test_split\n",
    "from sklearn.linear_model import LinearRegression"
   ]
  },
  {
   "cell_type": "code",
   "execution_count": null,
   "id": "815a42c6",
   "metadata": {},
   "outputs": [],
   "source": [
    "from tensorflow.keras.models import Sequential\n",
    "from tensorflow.keras.layers import Dense, Dropout\n",
    "from tensorflow.keras.callbacks import ModelCheckpoint"
   ]
  },
  {
   "cell_type": "code",
   "execution_count": 3,
   "id": "4c9ea295",
   "metadata": {},
   "outputs": [
    {
     "data": {
      "text/html": [
       "<div>\n",
       "<style scoped>\n",
       "    .dataframe tbody tr th:only-of-type {\n",
       "        vertical-align: middle;\n",
       "    }\n",
       "\n",
       "    .dataframe tbody tr th {\n",
       "        vertical-align: top;\n",
       "    }\n",
       "\n",
       "    .dataframe thead th {\n",
       "        text-align: right;\n",
       "    }\n",
       "</style>\n",
       "<table border=\"1\" class=\"dataframe\">\n",
       "  <thead>\n",
       "    <tr style=\"text-align: right;\">\n",
       "      <th></th>\n",
       "      <th>mpg</th>\n",
       "      <th>cylinders</th>\n",
       "      <th>displacement</th>\n",
       "      <th>horsepower</th>\n",
       "      <th>weight</th>\n",
       "      <th>acceleration</th>\n",
       "      <th>model year</th>\n",
       "      <th>origin</th>\n",
       "      <th>car name</th>\n",
       "    </tr>\n",
       "  </thead>\n",
       "  <tbody>\n",
       "    <tr>\n",
       "      <th>0</th>\n",
       "      <td>18.0</td>\n",
       "      <td>8</td>\n",
       "      <td>307.0</td>\n",
       "      <td>130</td>\n",
       "      <td>3504</td>\n",
       "      <td>12.0</td>\n",
       "      <td>70</td>\n",
       "      <td>1</td>\n",
       "      <td>chevrolet chevelle malibu</td>\n",
       "    </tr>\n",
       "    <tr>\n",
       "      <th>1</th>\n",
       "      <td>15.0</td>\n",
       "      <td>8</td>\n",
       "      <td>350.0</td>\n",
       "      <td>165</td>\n",
       "      <td>3693</td>\n",
       "      <td>11.5</td>\n",
       "      <td>70</td>\n",
       "      <td>1</td>\n",
       "      <td>buick skylark 320</td>\n",
       "    </tr>\n",
       "    <tr>\n",
       "      <th>2</th>\n",
       "      <td>18.0</td>\n",
       "      <td>8</td>\n",
       "      <td>318.0</td>\n",
       "      <td>150</td>\n",
       "      <td>3436</td>\n",
       "      <td>11.0</td>\n",
       "      <td>70</td>\n",
       "      <td>1</td>\n",
       "      <td>plymouth satellite</td>\n",
       "    </tr>\n",
       "    <tr>\n",
       "      <th>3</th>\n",
       "      <td>16.0</td>\n",
       "      <td>8</td>\n",
       "      <td>304.0</td>\n",
       "      <td>150</td>\n",
       "      <td>3433</td>\n",
       "      <td>12.0</td>\n",
       "      <td>70</td>\n",
       "      <td>1</td>\n",
       "      <td>amc rebel sst</td>\n",
       "    </tr>\n",
       "    <tr>\n",
       "      <th>4</th>\n",
       "      <td>17.0</td>\n",
       "      <td>8</td>\n",
       "      <td>302.0</td>\n",
       "      <td>140</td>\n",
       "      <td>3449</td>\n",
       "      <td>10.5</td>\n",
       "      <td>70</td>\n",
       "      <td>1</td>\n",
       "      <td>ford torino</td>\n",
       "    </tr>\n",
       "  </tbody>\n",
       "</table>\n",
       "</div>"
      ],
      "text/plain": [
       "    mpg  cylinders  displacement horsepower  weight  acceleration  model year  \\\n",
       "0  18.0          8         307.0        130    3504          12.0          70   \n",
       "1  15.0          8         350.0        165    3693          11.5          70   \n",
       "2  18.0          8         318.0        150    3436          11.0          70   \n",
       "3  16.0          8         304.0        150    3433          12.0          70   \n",
       "4  17.0          8         302.0        140    3449          10.5          70   \n",
       "\n",
       "   origin                   car name  \n",
       "0       1  chevrolet chevelle malibu  \n",
       "1       1          buick skylark 320  \n",
       "2       1         plymouth satellite  \n",
       "3       1              amc rebel sst  \n",
       "4       1                ford torino  "
      ]
     },
     "execution_count": 3,
     "metadata": {},
     "output_type": "execute_result"
    }
   ],
   "source": [
    "df = pd.read_csv(\"auto-mpg.csv\")\n",
    "df.head()"
   ]
  },
  {
   "cell_type": "code",
   "execution_count": 4,
   "id": "d0670444",
   "metadata": {},
   "outputs": [],
   "source": [
    "# COnverting type object to type ints\n",
    "df['horsepower'] = pd.to_numeric(df['horsepower'],errors='coerce')"
   ]
  },
  {
   "cell_type": "code",
   "execution_count": 5,
   "id": "e995fec1",
   "metadata": {
    "scrolled": true
   },
   "outputs": [
    {
     "name": "stdout",
     "output_type": "stream",
     "text": [
      "<class 'pandas.core.frame.DataFrame'>\n",
      "RangeIndex: 398 entries, 0 to 397\n",
      "Data columns (total 9 columns):\n",
      " #   Column        Non-Null Count  Dtype  \n",
      "---  ------        --------------  -----  \n",
      " 0   mpg           398 non-null    float64\n",
      " 1   cylinders     398 non-null    int64  \n",
      " 2   displacement  398 non-null    float64\n",
      " 3   horsepower    392 non-null    float64\n",
      " 4   weight        398 non-null    int64  \n",
      " 5   acceleration  398 non-null    float64\n",
      " 6   model year    398 non-null    int64  \n",
      " 7   origin        398 non-null    int64  \n",
      " 8   car name      398 non-null    object \n",
      "dtypes: float64(4), int64(4), object(1)\n",
      "memory usage: 28.1+ KB\n"
     ]
    }
   ],
   "source": [
    "df.info()"
   ]
  },
  {
   "cell_type": "markdown",
   "id": "902d4c6e",
   "metadata": {},
   "source": [
    "# Analysis"
   ]
  },
  {
   "cell_type": "code",
   "execution_count": 6,
   "id": "5ea4c677",
   "metadata": {},
   "outputs": [
    {
     "data": {
      "text/html": [
       "<div>\n",
       "<style scoped>\n",
       "    .dataframe tbody tr th:only-of-type {\n",
       "        vertical-align: middle;\n",
       "    }\n",
       "\n",
       "    .dataframe tbody tr th {\n",
       "        vertical-align: top;\n",
       "    }\n",
       "\n",
       "    .dataframe thead th {\n",
       "        text-align: right;\n",
       "    }\n",
       "</style>\n",
       "<table border=\"1\" class=\"dataframe\">\n",
       "  <thead>\n",
       "    <tr style=\"text-align: right;\">\n",
       "      <th></th>\n",
       "      <th>count</th>\n",
       "      <th>mean</th>\n",
       "      <th>std</th>\n",
       "      <th>min</th>\n",
       "      <th>25%</th>\n",
       "      <th>50%</th>\n",
       "      <th>75%</th>\n",
       "      <th>max</th>\n",
       "    </tr>\n",
       "  </thead>\n",
       "  <tbody>\n",
       "    <tr>\n",
       "      <th>mpg</th>\n",
       "      <td>398.0</td>\n",
       "      <td>23.514573</td>\n",
       "      <td>7.815984</td>\n",
       "      <td>9.0</td>\n",
       "      <td>17.500</td>\n",
       "      <td>23.0</td>\n",
       "      <td>29.000</td>\n",
       "      <td>46.6</td>\n",
       "    </tr>\n",
       "    <tr>\n",
       "      <th>cylinders</th>\n",
       "      <td>398.0</td>\n",
       "      <td>5.454774</td>\n",
       "      <td>1.701004</td>\n",
       "      <td>3.0</td>\n",
       "      <td>4.000</td>\n",
       "      <td>4.0</td>\n",
       "      <td>8.000</td>\n",
       "      <td>8.0</td>\n",
       "    </tr>\n",
       "    <tr>\n",
       "      <th>displacement</th>\n",
       "      <td>398.0</td>\n",
       "      <td>193.425879</td>\n",
       "      <td>104.269838</td>\n",
       "      <td>68.0</td>\n",
       "      <td>104.250</td>\n",
       "      <td>148.5</td>\n",
       "      <td>262.000</td>\n",
       "      <td>455.0</td>\n",
       "    </tr>\n",
       "    <tr>\n",
       "      <th>horsepower</th>\n",
       "      <td>392.0</td>\n",
       "      <td>104.469388</td>\n",
       "      <td>38.491160</td>\n",
       "      <td>46.0</td>\n",
       "      <td>75.000</td>\n",
       "      <td>93.5</td>\n",
       "      <td>126.000</td>\n",
       "      <td>230.0</td>\n",
       "    </tr>\n",
       "    <tr>\n",
       "      <th>weight</th>\n",
       "      <td>398.0</td>\n",
       "      <td>2970.424623</td>\n",
       "      <td>846.841774</td>\n",
       "      <td>1613.0</td>\n",
       "      <td>2223.750</td>\n",
       "      <td>2803.5</td>\n",
       "      <td>3608.000</td>\n",
       "      <td>5140.0</td>\n",
       "    </tr>\n",
       "    <tr>\n",
       "      <th>acceleration</th>\n",
       "      <td>398.0</td>\n",
       "      <td>15.568090</td>\n",
       "      <td>2.757689</td>\n",
       "      <td>8.0</td>\n",
       "      <td>13.825</td>\n",
       "      <td>15.5</td>\n",
       "      <td>17.175</td>\n",
       "      <td>24.8</td>\n",
       "    </tr>\n",
       "    <tr>\n",
       "      <th>model year</th>\n",
       "      <td>398.0</td>\n",
       "      <td>76.010050</td>\n",
       "      <td>3.697627</td>\n",
       "      <td>70.0</td>\n",
       "      <td>73.000</td>\n",
       "      <td>76.0</td>\n",
       "      <td>79.000</td>\n",
       "      <td>82.0</td>\n",
       "    </tr>\n",
       "    <tr>\n",
       "      <th>origin</th>\n",
       "      <td>398.0</td>\n",
       "      <td>1.572864</td>\n",
       "      <td>0.802055</td>\n",
       "      <td>1.0</td>\n",
       "      <td>1.000</td>\n",
       "      <td>1.0</td>\n",
       "      <td>2.000</td>\n",
       "      <td>3.0</td>\n",
       "    </tr>\n",
       "  </tbody>\n",
       "</table>\n",
       "</div>"
      ],
      "text/plain": [
       "              count         mean         std     min       25%     50%  \\\n",
       "mpg           398.0    23.514573    7.815984     9.0    17.500    23.0   \n",
       "cylinders     398.0     5.454774    1.701004     3.0     4.000     4.0   \n",
       "displacement  398.0   193.425879  104.269838    68.0   104.250   148.5   \n",
       "horsepower    392.0   104.469388   38.491160    46.0    75.000    93.5   \n",
       "weight        398.0  2970.424623  846.841774  1613.0  2223.750  2803.5   \n",
       "acceleration  398.0    15.568090    2.757689     8.0    13.825    15.5   \n",
       "model year    398.0    76.010050    3.697627    70.0    73.000    76.0   \n",
       "origin        398.0     1.572864    0.802055     1.0     1.000     1.0   \n",
       "\n",
       "                   75%     max  \n",
       "mpg             29.000    46.6  \n",
       "cylinders        8.000     8.0  \n",
       "displacement   262.000   455.0  \n",
       "horsepower     126.000   230.0  \n",
       "weight        3608.000  5140.0  \n",
       "acceleration    17.175    24.8  \n",
       "model year      79.000    82.0  \n",
       "origin           2.000     3.0  "
      ]
     },
     "execution_count": 6,
     "metadata": {},
     "output_type": "execute_result"
    }
   ],
   "source": [
    "# Stastitical summary\n",
    "df.describe().T"
   ]
  },
  {
   "cell_type": "code",
   "execution_count": 7,
   "id": "d0d649d4",
   "metadata": {},
   "outputs": [
    {
     "data": {
      "text/plain": [
       "<AxesSubplot:>"
      ]
     },
     "execution_count": 7,
     "metadata": {},
     "output_type": "execute_result"
    },
    {
     "data": {
      "image/png": "[encoded data removed]",
      "text/plain": [
       "<Figure size 1152x576 with 2 Axes>"
      ]
     },
     "metadata": {
      "needs_background": "light"
     },
     "output_type": "display_data"
    }
   ],
   "source": [
    "plt.figure(figsize=(16,8))\n",
    "sns.heatmap(df.corr(), annot=True)"
   ]
  },
  {
   "cell_type": "code",
   "execution_count": 8,
   "id": "e03d8966",
   "metadata": {},
   "outputs": [
    {
     "data": {
      "text/plain": [
       "origin\n",
       "1    20.083534\n",
       "2    27.891429\n",
       "3    30.450633\n",
       "Name: mpg, dtype: float64"
      ]
     },
     "execution_count": 8,
     "metadata": {},
     "output_type": "execute_result"
    }
   ],
   "source": [
    "# measuring average MPG for each origin\n",
    "# as per the data dictionary (1: American, 2: European, 3: Japanese)\n",
    "\n",
    "df.groupby('origin')['mpg'].mean()"
   ]
  },
  {
   "cell_type": "code",
   "execution_count": 9,
   "id": "52e9fbfb",
   "metadata": {},
   "outputs": [
    {
     "data": {
      "text/plain": [
       "<AxesSubplot:xlabel='origin', ylabel='mpg'>"
      ]
     },
     "execution_count": 9,
     "metadata": {},
     "output_type": "execute_result"
    },
    {
     "data": {
      "image/png": "[encoded data removed]",
      "text/plain": [
       "<Figure size 432x288 with 1 Axes>"
      ]
     },
     "metadata": {
      "needs_background": "light"
     },
     "output_type": "display_data"
    }
   ],
   "source": [
    "sns.barplot(x='origin', y='mpg', data=df, palette='cool')"
   ]
  },
  {
   "cell_type": "code",
   "execution_count": 10,
   "id": "0682f3ee",
   "metadata": {},
   "outputs": [
    {
     "data": {
      "text/plain": [
       "<AxesSubplot:xlabel='cylinders', ylabel='mpg'>"
      ]
     },
     "execution_count": 10,
     "metadata": {},
     "output_type": "execute_result"
    },
    {
     "data": {
      "image/png": "[encoded data removed]",
      "text/plain": [
       "<Figure size 432x288 with 1 Axes>"
      ]
     },
     "metadata": {
      "needs_background": "light"
     },
     "output_type": "display_data"
    }
   ],
   "source": [
    "# \n",
    "sns.barplot(x='cylinders', y='mpg', data=df, palette='cool')"
   ]
  },
  {
   "cell_type": "code",
   "execution_count": 11,
   "id": "d1bff2ab",
   "metadata": {},
   "outputs": [
    {
     "name": "stderr",
     "output_type": "stream",
     "text": [
      "C:\\Users\\amita\\anaconda3\\lib\\site-packages\\seaborn\\_decorators.py:36: FutureWarning: Pass the following variables as keyword args: x, y. From version 0.12, the only valid positional argument will be `data`, and passing other arguments without an explicit keyword will result in an error or misinterpretation.\n",
      "  warnings.warn(\n"
     ]
    },
    {
     "data": {
      "text/plain": [
       "Text(0, 0.5, 'MPG')"
      ]
     },
     "execution_count": 11,
     "metadata": {},
     "output_type": "execute_result"
    },
    {
     "data": {
      "image/png": "[encoded data removed]",
      "text/plain": [
       "<Figure size 432x288 with 1 Axes>"
      ]
     },
     "metadata": {
      "needs_background": "light"
     },
     "output_type": "display_data"
    }
   ],
   "source": [
    "# PLoting mpg against horse power\n",
    "sns.scatterplot(df['horsepower'], df['mpg'])\n",
    "plt.xlabel(\"Horse Power\")\n",
    "plt.ylabel(\"MPG\")"
   ]
  },
  {
   "cell_type": "code",
   "execution_count": 12,
   "id": "c0e444a7",
   "metadata": {},
   "outputs": [
    {
     "name": "stderr",
     "output_type": "stream",
     "text": [
      "C:\\Users\\amita\\anaconda3\\lib\\site-packages\\seaborn\\_decorators.py:36: FutureWarning: Pass the following variables as keyword args: x, y. From version 0.12, the only valid positional argument will be `data`, and passing other arguments without an explicit keyword will result in an error or misinterpretation.\n",
      "  warnings.warn(\n"
     ]
    },
    {
     "data": {
      "text/plain": [
       "Text(0, 0.5, 'MPG')"
      ]
     },
     "execution_count": 12,
     "metadata": {},
     "output_type": "execute_result"
    },
    {
     "data": {
      "image/png": "[encoded data removed]",
      "text/plain": [
       "<Figure size 432x288 with 1 Axes>"
      ]
     },
     "metadata": {
      "needs_background": "light"
     },
     "output_type": "display_data"
    }
   ],
   "source": [
    "# PLoting mpg against Weight\n",
    "sns.scatterplot(df['weight'], df['mpg'])\n",
    "plt.xlabel(\"Weight\")\n",
    "plt.ylabel(\"MPG\")"
   ]
  },
  {
   "cell_type": "code",
   "execution_count": 13,
   "id": "03eaea2c",
   "metadata": {},
   "outputs": [
    {
     "data": {
      "text/plain": [
       "<AxesSubplot:xlabel='model year', ylabel='mpg'>"
      ]
     },
     "execution_count": 13,
     "metadata": {},
     "output_type": "execute_result"
    },
    {
     "data": {
      "image/png": "[encoded data removed]",
      "text/plain": [
       "<Figure size 432x288 with 1 Axes>"
      ]
     },
     "metadata": {
      "needs_background": "light"
     },
     "output_type": "display_data"
    }
   ],
   "source": [
    "sns.barplot(x='model year', y='mpg', data=df, palette='cool')"
   ]
  },
  {
   "cell_type": "code",
   "execution_count": 14,
   "id": "c5fefced",
   "metadata": {},
   "outputs": [
    {
     "name": "stdout",
     "output_type": "stream",
     "text": [
      "<class 'pandas.core.frame.DataFrame'>\n",
      "RangeIndex: 398 entries, 0 to 397\n",
      "Data columns (total 9 columns):\n",
      " #   Column        Non-Null Count  Dtype  \n",
      "---  ------        --------------  -----  \n",
      " 0   mpg           398 non-null    float64\n",
      " 1   cylinders     398 non-null    int64  \n",
      " 2   displacement  398 non-null    float64\n",
      " 3   horsepower    392 non-null    float64\n",
      " 4   weight        398 non-null    int64  \n",
      " 5   acceleration  398 non-null    float64\n",
      " 6   model year    398 non-null    int64  \n",
      " 7   origin        398 non-null    int64  \n",
      " 8   car name      398 non-null    object \n",
      "dtypes: float64(4), int64(4), object(1)\n",
      "memory usage: 28.1+ KB\n"
     ]
    }
   ],
   "source": [
    "df.info()"
   ]
  },
  {
   "cell_type": "code",
   "execution_count": 15,
   "id": "debd2c9c",
   "metadata": {},
   "outputs": [
    {
     "name": "stderr",
     "output_type": "stream",
     "text": [
      "C:\\Users\\amita\\anaconda3\\lib\\site-packages\\seaborn\\_decorators.py:36: FutureWarning: Pass the following variables as keyword args: x, y. From version 0.12, the only valid positional argument will be `data`, and passing other arguments without an explicit keyword will result in an error or misinterpretation.\n",
      "  warnings.warn(\n"
     ]
    },
    {
     "data": {
      "text/plain": [
       "Text(0, 0.5, 'MPG')"
      ]
     },
     "execution_count": 15,
     "metadata": {},
     "output_type": "execute_result"
    },
    {
     "data": {
      "image/png": "[encoded data removed]",
      "text/plain": [
       "<Figure size 432x288 with 1 Axes>"
      ]
     },
     "metadata": {
      "needs_background": "light"
     },
     "output_type": "display_data"
    }
   ],
   "source": [
    "# PLoting mpg against displacement\n",
    "sns.scatterplot(df['displacement'], df['mpg'])\n",
    "plt.xlabel(\"displacement\")\n",
    "plt.ylabel(\"MPG\")"
   ]
  },
  {
   "cell_type": "code",
   "execution_count": null,
   "id": "c3920b34",
   "metadata": {},
   "outputs": [],
   "source": []
  },
  {
   "cell_type": "markdown",
   "id": "4f250a5e",
   "metadata": {},
   "source": [
    "# Data Prep\n",
    "### Data cleaning"
   ]
  },
  {
   "cell_type": "code",
   "execution_count": 16,
   "id": "9d3f0258",
   "metadata": {},
   "outputs": [
    {
     "name": "stdout",
     "output_type": "stream",
     "text": [
      "No of nAn in mpg:  0\n",
      "No of nAn in cylinders:  0\n",
      "No of nAn in displacement:  0\n",
      "No of nAn in horsepower:  6\n",
      "No of nAn in weight:  0\n",
      "No of nAn in acceleration:  0\n",
      "No of nAn in model year:  0\n",
      "No of nAn in origin:  0\n",
      "No of nAn in car name:  0\n"
     ]
    }
   ],
   "source": [
    "# CHecking for nan values\n",
    "for l in df:\n",
    "    print(f'No of nAn in {l}: ', df[l].isna().sum())"
   ]
  },
  {
   "cell_type": "code",
   "execution_count": 17,
   "id": "52ba9e2c",
   "metadata": {},
   "outputs": [
    {
     "name": "stdout",
     "output_type": "stream",
     "text": [
      "No of null in mpg:  0\n",
      "No of null in cylinders:  0\n",
      "No of null in displacement:  0\n",
      "No of null in horsepower:  6\n",
      "No of null in weight:  0\n",
      "No of null in acceleration:  0\n",
      "No of null in model year:  0\n",
      "No of null in origin:  0\n",
      "No of null in car name:  0\n"
     ]
    }
   ],
   "source": [
    "# CHecking for null values\n",
    "for l in df:\n",
    "    print(f'No of null in {l}: ', df[l].isnull().sum())"
   ]
  },
  {
   "cell_type": "code",
   "execution_count": 18,
   "id": "1a335ead",
   "metadata": {},
   "outputs": [],
   "source": [
    "# Droping nan values\n",
    "df = df.dropna()"
   ]
  },
  {
   "cell_type": "code",
   "execution_count": 19,
   "id": "af4beae3",
   "metadata": {},
   "outputs": [
    {
     "name": "stdout",
     "output_type": "stream",
     "text": [
      "No of nAn in mpg:  0\n",
      "No of nAn in cylinders:  0\n",
      "No of nAn in displacement:  0\n",
      "No of nAn in horsepower:  0\n",
      "No of nAn in weight:  0\n",
      "No of nAn in acceleration:  0\n",
      "No of nAn in model year:  0\n",
      "No of nAn in origin:  0\n",
      "No of nAn in car name:  0\n"
     ]
    }
   ],
   "source": [
    "for l in df:\n",
    "    print(f'No of nAn in {l}: ', df[l].isna().sum())"
   ]
  },
  {
   "cell_type": "code",
   "execution_count": 20,
   "id": "0228f294",
   "metadata": {},
   "outputs": [
    {
     "name": "stdout",
     "output_type": "stream",
     "text": [
      "No of null in mpg:  0\n",
      "No of null in cylinders:  0\n",
      "No of null in displacement:  0\n",
      "No of null in horsepower:  0\n",
      "No of null in weight:  0\n",
      "No of null in acceleration:  0\n",
      "No of null in model year:  0\n",
      "No of null in origin:  0\n",
      "No of null in car name:  0\n"
     ]
    }
   ],
   "source": [
    "# CHecking for null values\n",
    "for l in df:\n",
    "    print(f'No of null in {l}: ', df[l].isnull().sum())"
   ]
  },
  {
   "cell_type": "code",
   "execution_count": 21,
   "id": "2e47f708",
   "metadata": {},
   "outputs": [
    {
     "name": "stdout",
     "output_type": "stream",
     "text": [
      "<class 'pandas.core.frame.DataFrame'>\n",
      "Int64Index: 392 entries, 0 to 397\n",
      "Data columns (total 9 columns):\n",
      " #   Column        Non-Null Count  Dtype  \n",
      "---  ------        --------------  -----  \n",
      " 0   mpg           392 non-null    float64\n",
      " 1   cylinders     392 non-null    int64  \n",
      " 2   displacement  392 non-null    float64\n",
      " 3   horsepower    392 non-null    float64\n",
      " 4   weight        392 non-null    int64  \n",
      " 5   acceleration  392 non-null    float64\n",
      " 6   model year    392 non-null    int64  \n",
      " 7   origin        392 non-null    int64  \n",
      " 8   car name      392 non-null    object \n",
      "dtypes: float64(4), int64(4), object(1)\n",
      "memory usage: 30.6+ KB\n"
     ]
    }
   ],
   "source": [
    "df.info()"
   ]
  },
  {
   "cell_type": "code",
   "execution_count": 22,
   "id": "d27a5b66",
   "metadata": {},
   "outputs": [
    {
     "name": "stderr",
     "output_type": "stream",
     "text": [
      "C:\\Users\\amita\\AppData\\Local\\Temp\\ipykernel_16380\\3702129968.py:2: FutureWarning: In a future version of pandas all arguments of DataFrame.drop except for the argument 'labels' will be keyword-only.\n",
      "  df = df.drop('car name', 1)\n"
     ]
    }
   ],
   "source": [
    "# droping car name\n",
    "df = df.drop('car name', 1)"
   ]
  },
  {
   "cell_type": "code",
   "execution_count": 23,
   "id": "7322793d",
   "metadata": {},
   "outputs": [
    {
     "data": {
      "text/html": [
       "<div>\n",
       "<style scoped>\n",
       "    .dataframe tbody tr th:only-of-type {\n",
       "        vertical-align: middle;\n",
       "    }\n",
       "\n",
       "    .dataframe tbody tr th {\n",
       "        vertical-align: top;\n",
       "    }\n",
       "\n",
       "    .dataframe thead th {\n",
       "        text-align: right;\n",
       "    }\n",
       "</style>\n",
       "<table border=\"1\" class=\"dataframe\">\n",
       "  <thead>\n",
       "    <tr style=\"text-align: right;\">\n",
       "      <th></th>\n",
       "      <th>mpg</th>\n",
       "      <th>cylinders</th>\n",
       "      <th>displacement</th>\n",
       "      <th>horsepower</th>\n",
       "      <th>weight</th>\n",
       "      <th>acceleration</th>\n",
       "      <th>model year</th>\n",
       "      <th>origin</th>\n",
       "    </tr>\n",
       "  </thead>\n",
       "  <tbody>\n",
       "    <tr>\n",
       "      <th>0</th>\n",
       "      <td>18.0</td>\n",
       "      <td>8</td>\n",
       "      <td>307.0</td>\n",
       "      <td>130.0</td>\n",
       "      <td>3504</td>\n",
       "      <td>12.0</td>\n",
       "      <td>70</td>\n",
       "      <td>1</td>\n",
       "    </tr>\n",
       "    <tr>\n",
       "      <th>1</th>\n",
       "      <td>15.0</td>\n",
       "      <td>8</td>\n",
       "      <td>350.0</td>\n",
       "      <td>165.0</td>\n",
       "      <td>3693</td>\n",
       "      <td>11.5</td>\n",
       "      <td>70</td>\n",
       "      <td>1</td>\n",
       "    </tr>\n",
       "    <tr>\n",
       "      <th>2</th>\n",
       "      <td>18.0</td>\n",
       "      <td>8</td>\n",
       "      <td>318.0</td>\n",
       "      <td>150.0</td>\n",
       "      <td>3436</td>\n",
       "      <td>11.0</td>\n",
       "      <td>70</td>\n",
       "      <td>1</td>\n",
       "    </tr>\n",
       "    <tr>\n",
       "      <th>3</th>\n",
       "      <td>16.0</td>\n",
       "      <td>8</td>\n",
       "      <td>304.0</td>\n",
       "      <td>150.0</td>\n",
       "      <td>3433</td>\n",
       "      <td>12.0</td>\n",
       "      <td>70</td>\n",
       "      <td>1</td>\n",
       "    </tr>\n",
       "    <tr>\n",
       "      <th>4</th>\n",
       "      <td>17.0</td>\n",
       "      <td>8</td>\n",
       "      <td>302.0</td>\n",
       "      <td>140.0</td>\n",
       "      <td>3449</td>\n",
       "      <td>10.5</td>\n",
       "      <td>70</td>\n",
       "      <td>1</td>\n",
       "    </tr>\n",
       "  </tbody>\n",
       "</table>\n",
       "</div>"
      ],
      "text/plain": [
       "    mpg  cylinders  displacement  horsepower  weight  acceleration  \\\n",
       "0  18.0          8         307.0       130.0    3504          12.0   \n",
       "1  15.0          8         350.0       165.0    3693          11.5   \n",
       "2  18.0          8         318.0       150.0    3436          11.0   \n",
       "3  16.0          8         304.0       150.0    3433          12.0   \n",
       "4  17.0          8         302.0       140.0    3449          10.5   \n",
       "\n",
       "   model year  origin  \n",
       "0          70       1  \n",
       "1          70       1  \n",
       "2          70       1  \n",
       "3          70       1  \n",
       "4          70       1  "
      ]
     },
     "execution_count": 23,
     "metadata": {},
     "output_type": "execute_result"
    }
   ],
   "source": [
    "df.head()"
   ]
  },
  {
   "cell_type": "markdown",
   "id": "f5ee6dc3",
   "metadata": {},
   "source": [
    "## Categorical variables to One-hot-encoded variables"
   ]
  },
  {
   "cell_type": "code",
   "execution_count": 24,
   "id": "6f6d03e4",
   "metadata": {},
   "outputs": [
    {
     "data": {
      "text/html": [
       "<div>\n",
       "<style scoped>\n",
       "    .dataframe tbody tr th:only-of-type {\n",
       "        vertical-align: middle;\n",
       "    }\n",
       "\n",
       "    .dataframe tbody tr th {\n",
       "        vertical-align: top;\n",
       "    }\n",
       "\n",
       "    .dataframe thead th {\n",
       "        text-align: right;\n",
       "    }\n",
       "</style>\n",
       "<table border=\"1\" class=\"dataframe\">\n",
       "  <thead>\n",
       "    <tr style=\"text-align: right;\">\n",
       "      <th></th>\n",
       "      <th>origin_2</th>\n",
       "      <th>origin_3</th>\n",
       "    </tr>\n",
       "  </thead>\n",
       "  <tbody>\n",
       "    <tr>\n",
       "      <th>0</th>\n",
       "      <td>0</td>\n",
       "      <td>0</td>\n",
       "    </tr>\n",
       "    <tr>\n",
       "      <th>1</th>\n",
       "      <td>0</td>\n",
       "      <td>0</td>\n",
       "    </tr>\n",
       "    <tr>\n",
       "      <th>2</th>\n",
       "      <td>0</td>\n",
       "      <td>0</td>\n",
       "    </tr>\n",
       "    <tr>\n",
       "      <th>3</th>\n",
       "      <td>0</td>\n",
       "      <td>0</td>\n",
       "    </tr>\n",
       "    <tr>\n",
       "      <th>4</th>\n",
       "      <td>0</td>\n",
       "      <td>0</td>\n",
       "    </tr>\n",
       "  </tbody>\n",
       "</table>\n",
       "</div>"
      ],
      "text/plain": [
       "   origin_2  origin_3\n",
       "0         0         0\n",
       "1         0         0\n",
       "2         0         0\n",
       "3         0         0\n",
       "4         0         0"
      ]
     },
     "execution_count": 24,
     "metadata": {},
     "output_type": "execute_result"
    }
   ],
   "source": [
    "# COnverting categorical nominal variable to dummies\n",
    "origin_dummy =  pd.get_dummies(df['origin'], drop_first=True, prefix='origin')\n",
    "origin_dummy.head()"
   ]
  },
  {
   "cell_type": "code",
   "execution_count": 25,
   "id": "86b4c878",
   "metadata": {},
   "outputs": [
    {
     "name": "stderr",
     "output_type": "stream",
     "text": [
      "C:\\Users\\amita\\AppData\\Local\\Temp\\ipykernel_16380\\827818263.py:2: FutureWarning: In a future version of pandas all arguments of concat except for the argument 'objs' will be keyword-only.\n",
      "  df = pd.concat([df, origin_dummy], 1)\n"
     ]
    }
   ],
   "source": [
    "# Merging the dummy variables with df\n",
    "df = pd.concat([df, origin_dummy], 1)"
   ]
  },
  {
   "cell_type": "code",
   "execution_count": 26,
   "id": "5ede8379",
   "metadata": {},
   "outputs": [
    {
     "name": "stderr",
     "output_type": "stream",
     "text": [
      "C:\\Users\\amita\\AppData\\Local\\Temp\\ipykernel_16380\\2197664395.py:2: FutureWarning: In a future version of pandas all arguments of DataFrame.drop except for the argument 'labels' will be keyword-only.\n",
      "  df = df.drop('origin', 1)\n"
     ]
    },
    {
     "data": {
      "text/html": [
       "<div>\n",
       "<style scoped>\n",
       "    .dataframe tbody tr th:only-of-type {\n",
       "        vertical-align: middle;\n",
       "    }\n",
       "\n",
       "    .dataframe tbody tr th {\n",
       "        vertical-align: top;\n",
       "    }\n",
       "\n",
       "    .dataframe thead th {\n",
       "        text-align: right;\n",
       "    }\n",
       "</style>\n",
       "<table border=\"1\" class=\"dataframe\">\n",
       "  <thead>\n",
       "    <tr style=\"text-align: right;\">\n",
       "      <th></th>\n",
       "      <th>mpg</th>\n",
       "      <th>cylinders</th>\n",
       "      <th>displacement</th>\n",
       "      <th>horsepower</th>\n",
       "      <th>weight</th>\n",
       "      <th>acceleration</th>\n",
       "      <th>model year</th>\n",
       "      <th>origin_2</th>\n",
       "      <th>origin_3</th>\n",
       "    </tr>\n",
       "  </thead>\n",
       "  <tbody>\n",
       "    <tr>\n",
       "      <th>0</th>\n",
       "      <td>18.0</td>\n",
       "      <td>8</td>\n",
       "      <td>307.0</td>\n",
       "      <td>130.0</td>\n",
       "      <td>3504</td>\n",
       "      <td>12.0</td>\n",
       "      <td>70</td>\n",
       "      <td>0</td>\n",
       "      <td>0</td>\n",
       "    </tr>\n",
       "    <tr>\n",
       "      <th>1</th>\n",
       "      <td>15.0</td>\n",
       "      <td>8</td>\n",
       "      <td>350.0</td>\n",
       "      <td>165.0</td>\n",
       "      <td>3693</td>\n",
       "      <td>11.5</td>\n",
       "      <td>70</td>\n",
       "      <td>0</td>\n",
       "      <td>0</td>\n",
       "    </tr>\n",
       "    <tr>\n",
       "      <th>2</th>\n",
       "      <td>18.0</td>\n",
       "      <td>8</td>\n",
       "      <td>318.0</td>\n",
       "      <td>150.0</td>\n",
       "      <td>3436</td>\n",
       "      <td>11.0</td>\n",
       "      <td>70</td>\n",
       "      <td>0</td>\n",
       "      <td>0</td>\n",
       "    </tr>\n",
       "    <tr>\n",
       "      <th>3</th>\n",
       "      <td>16.0</td>\n",
       "      <td>8</td>\n",
       "      <td>304.0</td>\n",
       "      <td>150.0</td>\n",
       "      <td>3433</td>\n",
       "      <td>12.0</td>\n",
       "      <td>70</td>\n",
       "      <td>0</td>\n",
       "      <td>0</td>\n",
       "    </tr>\n",
       "    <tr>\n",
       "      <th>4</th>\n",
       "      <td>17.0</td>\n",
       "      <td>8</td>\n",
       "      <td>302.0</td>\n",
       "      <td>140.0</td>\n",
       "      <td>3449</td>\n",
       "      <td>10.5</td>\n",
       "      <td>70</td>\n",
       "      <td>0</td>\n",
       "      <td>0</td>\n",
       "    </tr>\n",
       "  </tbody>\n",
       "</table>\n",
       "</div>"
      ],
      "text/plain": [
       "    mpg  cylinders  displacement  horsepower  weight  acceleration  \\\n",
       "0  18.0          8         307.0       130.0    3504          12.0   \n",
       "1  15.0          8         350.0       165.0    3693          11.5   \n",
       "2  18.0          8         318.0       150.0    3436          11.0   \n",
       "3  16.0          8         304.0       150.0    3433          12.0   \n",
       "4  17.0          8         302.0       140.0    3449          10.5   \n",
       "\n",
       "   model year  origin_2  origin_3  \n",
       "0          70         0         0  \n",
       "1          70         0         0  \n",
       "2          70         0         0  \n",
       "3          70         0         0  \n",
       "4          70         0         0  "
      ]
     },
     "execution_count": 26,
     "metadata": {},
     "output_type": "execute_result"
    }
   ],
   "source": [
    "# Droping origin\n",
    "df = df.drop('origin', 1)\n",
    "df.head()"
   ]
  },
  {
   "cell_type": "code",
   "execution_count": null,
   "id": "f1398a64",
   "metadata": {},
   "outputs": [],
   "source": []
  },
  {
   "cell_type": "markdown",
   "id": "a8473292",
   "metadata": {},
   "source": [
    "## train test split"
   ]
  },
  {
   "cell_type": "code",
   "execution_count": 27,
   "id": "bc37d0b5",
   "metadata": {},
   "outputs": [
    {
     "data": {
      "text/html": [
       "<div>\n",
       "<style scoped>\n",
       "    .dataframe tbody tr th:only-of-type {\n",
       "        vertical-align: middle;\n",
       "    }\n",
       "\n",
       "    .dataframe tbody tr th {\n",
       "        vertical-align: top;\n",
       "    }\n",
       "\n",
       "    .dataframe thead th {\n",
       "        text-align: right;\n",
       "    }\n",
       "</style>\n",
       "<table border=\"1\" class=\"dataframe\">\n",
       "  <thead>\n",
       "    <tr style=\"text-align: right;\">\n",
       "      <th></th>\n",
       "      <th>mpg</th>\n",
       "      <th>cylinders</th>\n",
       "      <th>displacement</th>\n",
       "      <th>horsepower</th>\n",
       "      <th>weight</th>\n",
       "      <th>acceleration</th>\n",
       "      <th>model year</th>\n",
       "      <th>origin_2</th>\n",
       "      <th>origin_3</th>\n",
       "    </tr>\n",
       "  </thead>\n",
       "  <tbody>\n",
       "    <tr>\n",
       "      <th>0</th>\n",
       "      <td>18.0</td>\n",
       "      <td>8</td>\n",
       "      <td>307.0</td>\n",
       "      <td>130.0</td>\n",
       "      <td>3504</td>\n",
       "      <td>12.0</td>\n",
       "      <td>70</td>\n",
       "      <td>0</td>\n",
       "      <td>0</td>\n",
       "    </tr>\n",
       "    <tr>\n",
       "      <th>1</th>\n",
       "      <td>15.0</td>\n",
       "      <td>8</td>\n",
       "      <td>350.0</td>\n",
       "      <td>165.0</td>\n",
       "      <td>3693</td>\n",
       "      <td>11.5</td>\n",
       "      <td>70</td>\n",
       "      <td>0</td>\n",
       "      <td>0</td>\n",
       "    </tr>\n",
       "    <tr>\n",
       "      <th>2</th>\n",
       "      <td>18.0</td>\n",
       "      <td>8</td>\n",
       "      <td>318.0</td>\n",
       "      <td>150.0</td>\n",
       "      <td>3436</td>\n",
       "      <td>11.0</td>\n",
       "      <td>70</td>\n",
       "      <td>0</td>\n",
       "      <td>0</td>\n",
       "    </tr>\n",
       "    <tr>\n",
       "      <th>3</th>\n",
       "      <td>16.0</td>\n",
       "      <td>8</td>\n",
       "      <td>304.0</td>\n",
       "      <td>150.0</td>\n",
       "      <td>3433</td>\n",
       "      <td>12.0</td>\n",
       "      <td>70</td>\n",
       "      <td>0</td>\n",
       "      <td>0</td>\n",
       "    </tr>\n",
       "    <tr>\n",
       "      <th>4</th>\n",
       "      <td>17.0</td>\n",
       "      <td>8</td>\n",
       "      <td>302.0</td>\n",
       "      <td>140.0</td>\n",
       "      <td>3449</td>\n",
       "      <td>10.5</td>\n",
       "      <td>70</td>\n",
       "      <td>0</td>\n",
       "      <td>0</td>\n",
       "    </tr>\n",
       "  </tbody>\n",
       "</table>\n",
       "</div>"
      ],
      "text/plain": [
       "    mpg  cylinders  displacement  horsepower  weight  acceleration  \\\n",
       "0  18.0          8         307.0       130.0    3504          12.0   \n",
       "1  15.0          8         350.0       165.0    3693          11.5   \n",
       "2  18.0          8         318.0       150.0    3436          11.0   \n",
       "3  16.0          8         304.0       150.0    3433          12.0   \n",
       "4  17.0          8         302.0       140.0    3449          10.5   \n",
       "\n",
       "   model year  origin_2  origin_3  \n",
       "0          70         0         0  \n",
       "1          70         0         0  \n",
       "2          70         0         0  \n",
       "3          70         0         0  \n",
       "4          70         0         0  "
      ]
     },
     "execution_count": 27,
     "metadata": {},
     "output_type": "execute_result"
    }
   ],
   "source": [
    "df.head()"
   ]
  },
  {
   "cell_type": "code",
   "execution_count": 28,
   "id": "4dd1e70f",
   "metadata": {},
   "outputs": [],
   "source": [
    "# Splitting data to x and y\n",
    "y = df.iloc[:,0]\n",
    "X = df.iloc[:,1:]"
   ]
  },
  {
   "cell_type": "code",
   "execution_count": 29,
   "id": "0dc738ae",
   "metadata": {},
   "outputs": [],
   "source": [
    "# Performing train test split\n",
    "X_train, X_test, y_train, y_test = train_test_split(X, y, train_size=0.75, random_state=100)"
   ]
  },
  {
   "cell_type": "code",
   "execution_count": 30,
   "id": "ef56aecd",
   "metadata": {},
   "outputs": [
    {
     "name": "stdout",
     "output_type": "stream",
     "text": [
      "(294, 8)\n",
      "(98, 8)\n",
      "(294,)\n",
      "(98,)\n"
     ]
    }
   ],
   "source": [
    "# CHecking the shape of data\n",
    "print(X_train.shape)\n",
    "print(X_test.shape)\n",
    "print(y_train.shape)\n",
    "print(y_test.shape)"
   ]
  },
  {
   "cell_type": "code",
   "execution_count": null,
   "id": "7ea1c816",
   "metadata": {},
   "outputs": [],
   "source": []
  },
  {
   "cell_type": "markdown",
   "id": "c84c0f8b",
   "metadata": {},
   "source": [
    "## Normalizing data"
   ]
  },
  {
   "cell_type": "code",
   "execution_count": 31,
   "id": "9f1cc6a9",
   "metadata": {},
   "outputs": [],
   "source": [
    "to_norm = ['cylinders', 'displacement', 'horsepower', 'weight', 'acceleration', 'model year']"
   ]
  },
  {
   "cell_type": "code",
   "execution_count": 32,
   "id": "606a274a",
   "metadata": {},
   "outputs": [],
   "source": [
    "scalar_x = StandardScaler()\n",
    "#scalar_y = StandardScaler()\n",
    "\n",
    "X_train[to_norm] = scalar_x.fit_transform(X_train[to_norm])\n",
    "#y_train= scalar_y.fit_transform(y_train.to_numpy().reshape(-1,1))"
   ]
  },
  {
   "cell_type": "code",
   "execution_count": 33,
   "id": "634e2014",
   "metadata": {},
   "outputs": [],
   "source": [
    "X_test[to_norm] = scalar_x.transform(X_test[to_norm])\n",
    "#y_test = scalar_y.transform(y_test.to_numpy().reshape(-1,1))"
   ]
  },
  {
   "cell_type": "code",
   "execution_count": 34,
   "id": "620505df",
   "metadata": {},
   "outputs": [
    {
     "name": "stdout",
     "output_type": "stream",
     "text": [
      "(294, 8)\n",
      "(98, 8)\n",
      "(294,)\n",
      "(98,)\n"
     ]
    }
   ],
   "source": [
    "# CHecking the shape of data\n",
    "print(X_train.shape)\n",
    "print(X_test.shape)\n",
    "print(y_train.shape)\n",
    "print(y_test.shape)"
   ]
  },
  {
   "cell_type": "code",
   "execution_count": null,
   "id": "e7154918",
   "metadata": {},
   "outputs": [],
   "source": []
  },
  {
   "cell_type": "code",
   "execution_count": null,
   "id": "85e02913",
   "metadata": {},
   "outputs": [],
   "source": []
  },
  {
   "cell_type": "markdown",
   "id": "3664dec1",
   "metadata": {},
   "source": [
    "# Building model"
   ]
  },
  {
   "cell_type": "markdown",
   "id": "86aea8c0",
   "metadata": {},
   "source": [
    "# Linear regression"
   ]
  },
  {
   "cell_type": "code",
   "execution_count": 35,
   "id": "a6e263ec",
   "metadata": {},
   "outputs": [],
   "source": [
    "lr = LinearRegression()\n",
    "lr.fit(X_train, y_train)\n",
    "\n",
    "Y_pred = lr.predict(X_test)"
   ]
  },
  {
   "cell_type": "markdown",
   "id": "ac5a570c",
   "metadata": {},
   "source": [
    "### Model evaluation"
   ]
  },
  {
   "cell_type": "code",
   "execution_count": 36,
   "id": "4c8fa9fc",
   "metadata": {},
   "outputs": [
    {
     "name": "stdout",
     "output_type": "stream",
     "text": [
      "Mean Absolute Error (MAE): 2.67\n",
      "Mean Squared Error (MSE): 11.05\n",
      "Root Mean Squared Error (RMSE): 3.32\n",
      "R-squared (Coefficient of Determination): 0.80\n"
     ]
    }
   ],
   "source": [
    "from sklearn.metrics import mean_squared_error, mean_absolute_error, r2_score\n",
    "\n",
    "# Calculate mean absolute error\n",
    "mae = mean_absolute_error(y_test, Y_pred)\n",
    "print(f\"Mean Absolute Error (MAE): {mae:.2f}\")\n",
    "\n",
    "# Calculate mean squared error\n",
    "mse = mean_squared_error(y_test, Y_pred)\n",
    "print(f\"Mean Squared Error (MSE): {mse:.2f}\")\n",
    "\n",
    "# Calculate root mean squared error\n",
    "rmse = mse ** 0.5\n",
    "print(f\"Root Mean Squared Error (RMSE): {rmse:.2f}\")\n",
    "\n",
    "# Calculate R-squared\n",
    "r2 = r2_score(y_test, Y_pred)\n",
    "print(f\"R-squared (Coefficient of Determination): {r2:.2f}\")"
   ]
  },
  {
   "cell_type": "code",
   "execution_count": 37,
   "id": "28b1196a",
   "metadata": {},
   "outputs": [
    {
     "name": "stderr",
     "output_type": "stream",
     "text": [
      "C:\\Users\\amita\\anaconda3\\lib\\site-packages\\seaborn\\distributions.py:2619: FutureWarning: `distplot` is a deprecated function and will be removed in a future version. Please adapt your code to use either `displot` (a figure-level function with similar flexibility) or `histplot` (an axes-level function for histograms).\n",
      "  warnings.warn(msg, FutureWarning)\n"
     ]
    },
    {
     "data": {
      "text/plain": [
       "<AxesSubplot:xlabel='mpg', ylabel='Density'>"
      ]
     },
     "execution_count": 37,
     "metadata": {},
     "output_type": "execute_result"
    },
    {
     "data": {
      "image/png": "[encoded data removed]",
      "text/plain": [
       "<Figure size 432x288 with 1 Axes>"
      ]
     },
     "metadata": {
      "needs_background": "light"
     },
     "output_type": "display_data"
    }
   ],
   "source": [
    "# Residual analysis\n",
    "res = y_test - Y_pred\n",
    "\n",
    "sns.distplot(res)"
   ]
  },
  {
   "cell_type": "code",
   "execution_count": 42,
   "id": "5a7511f9",
   "metadata": {},
   "outputs": [
    {
     "name": "stdout",
     "output_type": "stream",
     "text": [
      "cylinders: -0.5029670083112654 \n",
      "displacement: 2.652063962860762 \n",
      "horsepower: -1.2919291527023984 \n",
      "weight: -5.493440369311285 \n",
      "acceleration: 0.37707852805710373 \n",
      "model year: 2.8287628205239117 \n",
      "origin_2: 2.722352376276845 \n",
      "origin_3: 3.1658316304746923 \n"
     ]
    }
   ],
   "source": [
    "for l,r, in zip(X_test.columns, list(lr.coef_)):\n",
    "    print(f'{l}: {r} ')"
   ]
  },
  {
   "cell_type": "code",
   "execution_count": 43,
   "id": "6acd1e9b",
   "metadata": {},
   "outputs": [
    {
     "data": {
      "image/png": "[encoded data removed]",
      "text/plain": [
       "<Figure size 432x288 with 1 Axes>"
      ]
     },
     "metadata": {
      "needs_background": "light"
     },
     "output_type": "display_data"
    }
   ],
   "source": [
    "# Residual analysis (Homoscedasticity)\n",
    "plt.scatter(y_test, res)\n",
    "plt.xlabel('Predicted Values')\n",
    "plt.ylabel('Residuals')\n",
    "plt.axhline(y=0, color='r', linestyle='--')\n",
    "plt.title('Residuals vs Fitted')\n",
    "plt.show()"
   ]
  },
  {
   "cell_type": "code",
   "execution_count": null,
   "id": "3fb1cc12",
   "metadata": {},
   "outputs": [],
   "source": []
  },
  {
   "cell_type": "markdown",
   "id": "6b596b74",
   "metadata": {},
   "source": [
    "# Neural Network"
   ]
  },
  {
   "cell_type": "code",
   "execution_count": 85,
   "id": "f76873ba",
   "metadata": {},
   "outputs": [],
   "source": []
  },
  {
   "cell_type": "code",
   "execution_count": 86,
   "id": "31dc28a6",
   "metadata": {},
   "outputs": [],
   "source": [
    "inputShape =  X_train.shape[1]"
   ]
  },
  {
   "cell_type": "code",
   "execution_count": 87,
   "id": "14a3edcf",
   "metadata": {},
   "outputs": [],
   "source": [
    "# Model structure\n",
    "\n",
    "model = Sequential()\n",
    "model.add(Dense(64, activation='relu',input_shape=(X_train.shape[1],)))\n",
    "model.add(Dense(64, activation='relu'))\n",
    "model.add(Dropout(0.1))\n",
    "model.add(Dense(1))"
   ]
  },
  {
   "cell_type": "code",
   "execution_count": 88,
   "id": "93250cdd",
   "metadata": {},
   "outputs": [
    {
     "name": "stdout",
     "output_type": "stream",
     "text": [
      "Model: \"sequential_12\"\n",
      "_________________________________________________________________\n",
      " Layer (type)                Output Shape              Param #   \n",
      "=================================================================\n",
      " dense_22 (Dense)            (None, 64)                576       \n",
      "                                                                 \n",
      " dense_23 (Dense)            (None, 64)                4160      \n",
      "                                                                 \n",
      " dropout_6 (Dropout)         (None, 64)                0         \n",
      "                                                                 \n",
      " dense_24 (Dense)            (None, 1)                 65        \n",
      "                                                                 \n",
      "=================================================================\n",
      "Total params: 4,801\n",
      "Trainable params: 4,801\n",
      "Non-trainable params: 0\n",
      "_________________________________________________________________\n"
     ]
    }
   ],
   "source": [
    "model.summary()"
   ]
  },
  {
   "cell_type": "code",
   "execution_count": 89,
   "id": "121f45a2",
   "metadata": {},
   "outputs": [],
   "source": [
    "# Using ModelCheckpoint to save the best model\n",
    "\n",
    "checkpoint = ModelCheckpoint(\n",
    "    'best_model.h5',  # Path where the model will be saved\n",
    "    monitor='mae',   # Monitor the training loss\n",
    "    verbose=1,        # Log when models are being saved\n",
    "    save_best_only=True,  # Save only the best model\n",
    "    mode='min',       # Minimization problem (lower loss is better)\n",
    "    save_freq='epoch' # Check at the end of every epoch\n",
    ")"
   ]
  },
  {
   "cell_type": "code",
   "execution_count": 90,
   "id": "9d4ac9db",
   "metadata": {},
   "outputs": [],
   "source": [
    "model.compile(optimizer='adam', loss='mse', metrics=['mae'] )"
   ]
  },
  {
   "cell_type": "code",
   "execution_count": 91,
   "id": "bfd110a8",
   "metadata": {},
   "outputs": [
    {
     "name": "stdout",
     "output_type": "stream",
     "text": [
      "Epoch 1/100\n",
      " 1/10 [==>...........................] - ETA: 2s - loss: 806.2957 - mae: 27.1504\n",
      "Epoch 1: mae improved from inf to 23.27593, saving model to best_model.h5\n",
      "10/10 [==============================] - 0s 6ms/step - loss: 604.9205 - mae: 23.2759\n",
      "Epoch 2/100\n",
      " 1/10 [==>...........................] - ETA: 0s - loss: 599.7600 - mae: 23.3090\n",
      "Epoch 2: mae improved from 23.27593 to 22.50189, saving model to best_model.h5\n",
      "10/10 [==============================] - 0s 5ms/step - loss: 569.2484 - mae: 22.5019\n",
      "Epoch 3/100\n",
      " 1/10 [==>...........................] - ETA: 0s - loss: 616.3918 - mae: 23.5203\n",
      "Epoch 3: mae improved from 22.50189 to 21.54616, saving model to best_model.h5\n",
      "10/10 [==============================] - 0s 6ms/step - loss: 527.5178 - mae: 21.5462\n",
      "Epoch 4/100\n",
      " 1/10 [==>...........................] - ETA: 0s - loss: 423.0982 - mae: 18.9390\n",
      "Epoch 4: mae improved from 21.54616 to 20.25629, saving model to best_model.h5\n",
      "10/10 [==============================] - 0s 5ms/step - loss: 473.0330 - mae: 20.2563\n",
      "Epoch 5/100\n",
      " 1/10 [==>...........................] - ETA: 0s - loss: 392.0747 - mae: 18.4792\n",
      "Epoch 5: mae improved from 20.25629 to 18.50372, saving model to best_model.h5\n",
      "10/10 [==============================] - 0s 5ms/step - loss: 403.6070 - mae: 18.5037\n",
      "Epoch 6/100\n",
      " 1/10 [==>...........................] - ETA: 0s - loss: 334.3672 - mae: 16.1255\n",
      "Epoch 6: mae improved from 18.50372 to 16.05688, saving model to best_model.h5\n",
      "10/10 [==============================] - 0s 4ms/step - loss: 315.7062 - mae: 16.0569\n",
      "Epoch 7/100\n",
      " 1/10 [==>...........................] - ETA: 0s - loss: 270.3759 - mae: 14.3165\n",
      "Epoch 7: mae improved from 16.05688 to 13.16641, saving model to best_model.h5\n",
      "10/10 [==============================] - 0s 5ms/step - loss: 220.5967 - mae: 13.1664\n",
      "Epoch 8/100\n",
      " 1/10 [==>...........................] - ETA: 0s - loss: 186.6902 - mae: 11.6330\n",
      "Epoch 8: mae improved from 13.16641 to 10.21535, saving model to best_model.h5\n",
      "10/10 [==============================] - 0s 5ms/step - loss: 137.0434 - mae: 10.2153\n",
      "Epoch 9/100\n",
      " 1/10 [==>...........................] - ETA: 0s - loss: 114.4954 - mae: 9.1861\n",
      "Epoch 9: mae improved from 10.21535 to 7.66587, saving model to best_model.h5\n",
      "10/10 [==============================] - 0s 4ms/step - loss: 82.9829 - mae: 7.6659\n",
      "Epoch 10/100\n",
      " 1/10 [==>...........................] - ETA: 0s - loss: 68.2079 - mae: 6.4977\n",
      "Epoch 10: mae improved from 7.66587 to 6.37818, saving model to best_model.h5\n",
      "10/10 [==============================] - 0s 4ms/step - loss: 63.0007 - mae: 6.3782\n",
      "Epoch 11/100\n",
      " 1/10 [==>...........................] - ETA: 0s - loss: 104.6154 - mae: 7.8973\n",
      "Epoch 11: mae improved from 6.37818 to 5.86077, saving model to best_model.h5\n",
      "10/10 [==============================] - 0s 4ms/step - loss: 55.9206 - mae: 5.8608\n",
      "Epoch 12/100\n",
      " 1/10 [==>...........................] - ETA: 0s - loss: 31.1883 - mae: 4.1925\n",
      "Epoch 12: mae improved from 5.86077 to 5.61083, saving model to best_model.h5\n",
      "10/10 [==============================] - 0s 4ms/step - loss: 49.0630 - mae: 5.6108\n",
      "Epoch 13/100\n",
      " 1/10 [==>...........................] - ETA: 0s - loss: 53.3771 - mae: 5.6803\n",
      "Epoch 13: mae improved from 5.61083 to 5.35296, saving model to best_model.h5\n",
      "10/10 [==============================] - 0s 4ms/step - loss: 45.8163 - mae: 5.3530\n",
      "Epoch 14/100\n",
      " 1/10 [==>...........................] - ETA: 0s - loss: 29.2193 - mae: 4.4106\n",
      "Epoch 14: mae improved from 5.35296 to 5.05157, saving model to best_model.h5\n",
      "10/10 [==============================] - 0s 4ms/step - loss: 41.0497 - mae: 5.0516\n",
      "Epoch 15/100\n",
      " 1/10 [==>...........................] - ETA: 0s - loss: 32.8590 - mae: 4.6163\n",
      "Epoch 15: mae improved from 5.05157 to 4.84622, saving model to best_model.h5\n",
      "10/10 [==============================] - 0s 6ms/step - loss: 38.2487 - mae: 4.8462\n",
      "Epoch 16/100\n",
      " 1/10 [==>...........................] - ETA: 0s - loss: 34.6619 - mae: 4.4262\n",
      "Epoch 16: mae improved from 4.84622 to 4.58665, saving model to best_model.h5\n",
      "10/10 [==============================] - 0s 5ms/step - loss: 35.0231 - mae: 4.5866\n",
      "Epoch 17/100\n",
      " 1/10 [==>...........................] - ETA: 0s - loss: 33.5774 - mae: 4.2098\n",
      "Epoch 17: mae improved from 4.58665 to 4.42056, saving model to best_model.h5\n",
      "10/10 [==============================] - 0s 5ms/step - loss: 32.2284 - mae: 4.4206\n",
      "Epoch 18/100\n",
      " 1/10 [==>...........................] - ETA: 0s - loss: 27.3734 - mae: 3.7924\n",
      "Epoch 18: mae improved from 4.42056 to 4.21135, saving model to best_model.h5\n",
      "10/10 [==============================] - 0s 5ms/step - loss: 29.7223 - mae: 4.2114\n",
      "Epoch 19/100\n",
      " 1/10 [==>...........................] - ETA: 0s - loss: 40.1940 - mae: 4.8094\n",
      "Epoch 19: mae improved from 4.21135 to 4.12300, saving model to best_model.h5\n",
      "10/10 [==============================] - 0s 5ms/step - loss: 28.2393 - mae: 4.1230\n",
      "Epoch 20/100\n",
      " 1/10 [==>...........................] - ETA: 0s - loss: 16.8687 - mae: 3.4156\n",
      "Epoch 20: mae improved from 4.12300 to 4.06622, saving model to best_model.h5\n",
      "10/10 [==============================] - 0s 5ms/step - loss: 26.7683 - mae: 4.0662\n",
      "Epoch 21/100\n",
      " 1/10 [==>...........................] - ETA: 0s - loss: 23.2107 - mae: 3.7882\n",
      "Epoch 21: mae improved from 4.06622 to 3.93719, saving model to best_model.h5\n",
      "10/10 [==============================] - 0s 5ms/step - loss: 25.8536 - mae: 3.9372\n",
      "Epoch 22/100\n",
      " 1/10 [==>...........................] - ETA: 0s - loss: 18.6752 - mae: 3.4096\n",
      "Epoch 22: mae improved from 3.93719 to 3.68495, saving model to best_model.h5\n",
      "10/10 [==============================] - 0s 5ms/step - loss: 22.6427 - mae: 3.6850\n",
      "Epoch 23/100\n",
      " 1/10 [==>...........................] - ETA: 0s - loss: 17.7421 - mae: 3.6121\n",
      "Epoch 23: mae did not improve from 3.68495\n",
      "10/10 [==============================] - 0s 2ms/step - loss: 22.8908 - mae: 3.7614\n",
      "Epoch 24/100\n",
      " 1/10 [==>...........................] - ETA: 0s - loss: 22.3866 - mae: 3.2408\n",
      "Epoch 24: mae improved from 3.68495 to 3.52446, saving model to best_model.h5\n",
      "10/10 [==============================] - 0s 5ms/step - loss: 20.4650 - mae: 3.5245\n",
      "Epoch 25/100\n",
      " 1/10 [==>...........................] - ETA: 0s - loss: 20.7409 - mae: 3.5155\n",
      "Epoch 25: mae improved from 3.52446 to 3.32192, saving model to best_model.h5\n",
      "10/10 [==============================] - 0s 5ms/step - loss: 19.0194 - mae: 3.3219\n",
      "Epoch 26/100\n",
      " 1/10 [==>...........................] - ETA: 0s - loss: 31.8483 - mae: 4.1159\n",
      "Epoch 26: mae improved from 3.32192 to 3.23647, saving model to best_model.h5\n",
      "10/10 [==============================] - 0s 5ms/step - loss: 18.4994 - mae: 3.2365\n",
      "Epoch 27/100\n",
      " 1/10 [==>...........................] - ETA: 0s - loss: 22.6271 - mae: 3.8146\n",
      "Epoch 27: mae did not improve from 3.23647\n",
      "10/10 [==============================] - 0s 2ms/step - loss: 17.7030 - mae: 3.2509\n",
      "Epoch 28/100\n",
      " 1/10 [==>...........................] - ETA: 0s - loss: 16.0923 - mae: 3.1982\n",
      "Epoch 28: mae improved from 3.23647 to 3.17574, saving model to best_model.h5\n",
      "10/10 [==============================] - 0s 5ms/step - loss: 17.0742 - mae: 3.1757\n",
      "Epoch 29/100\n",
      " 1/10 [==>...........................] - ETA: 0s - loss: 17.5045 - mae: 2.8955\n",
      "Epoch 29: mae improved from 3.17574 to 3.14798, saving model to best_model.h5\n",
      "10/10 [==============================] - 0s 5ms/step - loss: 16.9038 - mae: 3.1480\n",
      "Epoch 30/100\n",
      " 1/10 [==>...........................] - ETA: 0s - loss: 17.1981 - mae: 3.2175\n",
      "Epoch 30: mae improved from 3.14798 to 3.03393, saving model to best_model.h5\n",
      "10/10 [==============================] - 0s 5ms/step - loss: 15.4120 - mae: 3.0339\n",
      "Epoch 31/100\n",
      " 1/10 [==>...........................] - ETA: 0s - loss: 18.7838 - mae: 3.1211\n",
      "Epoch 31: mae improved from 3.03393 to 2.97230, saving model to best_model.h5\n",
      "10/10 [==============================] - 0s 6ms/step - loss: 15.1850 - mae: 2.9723\n",
      "Epoch 32/100\n",
      " 1/10 [==>...........................] - ETA: 0s - loss: 21.7186 - mae: 3.5957\n",
      "Epoch 32: mae did not improve from 2.97230\n",
      "10/10 [==============================] - 0s 2ms/step - loss: 16.7861 - mae: 3.1334\n",
      "Epoch 33/100\n",
      " 1/10 [==>...........................] - ETA: 0s - loss: 19.4428 - mae: 3.3056\n",
      "Epoch 33: mae improved from 2.97230 to 2.95787, saving model to best_model.h5\n",
      "10/10 [==============================] - 0s 7ms/step - loss: 14.6414 - mae: 2.9579\n"
     ]
    },
    {
     "name": "stdout",
     "output_type": "stream",
     "text": [
      "Epoch 34/100\n",
      " 1/10 [==>...........................] - ETA: 0s - loss: 12.4681 - mae: 2.5610\n",
      "Epoch 34: mae improved from 2.95787 to 2.81269, saving model to best_model.h5\n",
      "10/10 [==============================] - 0s 5ms/step - loss: 13.5152 - mae: 2.8127\n",
      "Epoch 35/100\n",
      " 1/10 [==>...........................] - ETA: 0s - loss: 11.4698 - mae: 2.7451\n",
      "Epoch 35: mae did not improve from 2.81269\n",
      "10/10 [==============================] - 0s 2ms/step - loss: 13.5923 - mae: 2.8141\n",
      "Epoch 36/100\n",
      " 1/10 [==>...........................] - ETA: 0s - loss: 8.7308 - mae: 2.3707\n",
      "Epoch 36: mae did not improve from 2.81269\n",
      "10/10 [==============================] - 0s 2ms/step - loss: 13.8676 - mae: 2.8987\n",
      "Epoch 37/100\n",
      " 1/10 [==>...........................] - ETA: 0s - loss: 12.7491 - mae: 2.7488\n",
      "Epoch 37: mae did not improve from 2.81269\n",
      "10/10 [==============================] - 0s 2ms/step - loss: 13.5852 - mae: 2.8855\n",
      "Epoch 38/100\n",
      " 1/10 [==>...........................] - ETA: 0s - loss: 13.1202 - mae: 2.9006\n",
      "Epoch 38: mae improved from 2.81269 to 2.66286, saving model to best_model.h5\n",
      "10/10 [==============================] - 0s 4ms/step - loss: 12.4685 - mae: 2.6629\n",
      "Epoch 39/100\n",
      " 1/10 [==>...........................] - ETA: 0s - loss: 7.5730 - mae: 2.1824\n",
      "Epoch 39: mae improved from 2.66286 to 2.63041, saving model to best_model.h5\n",
      "10/10 [==============================] - 0s 5ms/step - loss: 12.5615 - mae: 2.6304\n",
      "Epoch 40/100\n",
      " 1/10 [==>...........................] - ETA: 0s - loss: 10.8388 - mae: 2.4774\n",
      "Epoch 40: mae improved from 2.63041 to 2.62819, saving model to best_model.h5\n",
      "10/10 [==============================] - 0s 5ms/step - loss: 11.7984 - mae: 2.6282\n",
      "Epoch 41/100\n",
      " 1/10 [==>...........................] - ETA: 0s - loss: 11.4188 - mae: 2.5709\n",
      "Epoch 41: mae improved from 2.62819 to 2.50629, saving model to best_model.h5\n",
      "10/10 [==============================] - 0s 4ms/step - loss: 11.1320 - mae: 2.5063\n",
      "Epoch 42/100\n",
      " 1/10 [==>...........................] - ETA: 0s - loss: 11.6359 - mae: 2.7529\n",
      "Epoch 42: mae did not improve from 2.50629\n",
      "10/10 [==============================] - 0s 2ms/step - loss: 13.0770 - mae: 2.7017\n",
      "Epoch 43/100\n",
      " 1/10 [==>...........................] - ETA: 0s - loss: 13.8122 - mae: 2.8104\n",
      "Epoch 43: mae did not improve from 2.50629\n",
      "10/10 [==============================] - 0s 2ms/step - loss: 11.5348 - mae: 2.5672\n",
      "Epoch 44/100\n",
      " 1/10 [==>...........................] - ETA: 0s - loss: 9.4051 - mae: 2.3174\n",
      "Epoch 44: mae did not improve from 2.50629\n",
      "10/10 [==============================] - 0s 2ms/step - loss: 11.5700 - mae: 2.5487\n",
      "Epoch 45/100\n",
      " 1/10 [==>...........................] - ETA: 0s - loss: 12.2567 - mae: 2.6906\n",
      "Epoch 45: mae did not improve from 2.50629\n",
      "10/10 [==============================] - 0s 2ms/step - loss: 11.2758 - mae: 2.5503\n",
      "Epoch 46/100\n",
      " 1/10 [==>...........................] - ETA: 0s - loss: 9.8041 - mae: 2.5182\n",
      "Epoch 46: mae improved from 2.50629 to 2.43927, saving model to best_model.h5\n",
      "10/10 [==============================] - 0s 4ms/step - loss: 10.2658 - mae: 2.4393\n",
      "Epoch 47/100\n",
      " 1/10 [==>...........................] - ETA: 0s - loss: 12.6108 - mae: 2.5543\n",
      "Epoch 47: mae did not improve from 2.43927\n",
      "10/10 [==============================] - 0s 2ms/step - loss: 10.9144 - mae: 2.4940\n",
      "Epoch 48/100\n",
      " 1/10 [==>...........................] - ETA: 0s - loss: 10.7786 - mae: 2.4535\n",
      "Epoch 48: mae did not improve from 2.43927\n",
      "10/10 [==============================] - 0s 2ms/step - loss: 11.3259 - mae: 2.5276\n",
      "Epoch 49/100\n",
      " 1/10 [==>...........................] - ETA: 0s - loss: 9.5865 - mae: 2.2562\n",
      "Epoch 49: mae did not improve from 2.43927\n",
      "10/10 [==============================] - 0s 2ms/step - loss: 11.1318 - mae: 2.5610\n",
      "Epoch 50/100\n",
      " 1/10 [==>...........................] - ETA: 0s - loss: 13.6675 - mae: 2.8987\n",
      "Epoch 50: mae did not improve from 2.43927\n",
      "10/10 [==============================] - 0s 2ms/step - loss: 10.7162 - mae: 2.4765\n",
      "Epoch 51/100\n",
      " 1/10 [==>...........................] - ETA: 0s - loss: 11.2528 - mae: 2.6578\n",
      "Epoch 51: mae did not improve from 2.43927\n",
      "10/10 [==============================] - 0s 2ms/step - loss: 11.9723 - mae: 2.5674\n",
      "Epoch 52/100\n",
      " 1/10 [==>...........................] - ETA: 0s - loss: 11.1278 - mae: 2.3196\n",
      "Epoch 52: mae did not improve from 2.43927\n",
      "10/10 [==============================] - 0s 2ms/step - loss: 10.8239 - mae: 2.4601\n",
      "Epoch 53/100\n",
      " 1/10 [==>...........................] - ETA: 0s - loss: 8.0017 - mae: 1.9561\n",
      "Epoch 53: mae improved from 2.43927 to 2.30891, saving model to best_model.h5\n",
      "10/10 [==============================] - 0s 4ms/step - loss: 9.5271 - mae: 2.3089\n",
      "Epoch 54/100\n",
      " 1/10 [==>...........................] - ETA: 0s - loss: 6.0403 - mae: 1.8612\n",
      "Epoch 54: mae did not improve from 2.30891\n",
      "10/10 [==============================] - 0s 2ms/step - loss: 9.8717 - mae: 2.3732\n",
      "Epoch 55/100\n",
      " 1/10 [==>...........................] - ETA: 0s - loss: 5.8867 - mae: 1.8735\n",
      "Epoch 55: mae did not improve from 2.30891\n",
      "10/10 [==============================] - 0s 2ms/step - loss: 9.7795 - mae: 2.3691\n",
      "Epoch 56/100\n",
      " 1/10 [==>...........................] - ETA: 0s - loss: 16.7906 - mae: 3.2952\n",
      "Epoch 56: mae did not improve from 2.30891\n",
      "10/10 [==============================] - 0s 2ms/step - loss: 10.8989 - mae: 2.4825\n",
      "Epoch 57/100\n",
      " 1/10 [==>...........................] - ETA: 0s - loss: 15.9990 - mae: 3.0693\n",
      "Epoch 57: mae did not improve from 2.30891\n",
      "10/10 [==============================] - 0s 2ms/step - loss: 10.0931 - mae: 2.3551\n",
      "Epoch 58/100\n",
      " 1/10 [==>...........................] - ETA: 0s - loss: 13.4555 - mae: 2.6295\n",
      "Epoch 58: mae did not improve from 2.30891\n",
      "10/10 [==============================] - 0s 2ms/step - loss: 10.0867 - mae: 2.3412\n",
      "Epoch 59/100\n",
      " 1/10 [==>...........................] - ETA: 0s - loss: 8.5916 - mae: 2.2561\n",
      "Epoch 59: mae did not improve from 2.30891\n",
      "10/10 [==============================] - 0s 2ms/step - loss: 9.1154 - mae: 2.3126\n",
      "Epoch 60/100\n",
      " 1/10 [==>...........................] - ETA: 0s - loss: 15.4461 - mae: 2.7948\n",
      "Epoch 60: mae did not improve from 2.30891\n",
      "10/10 [==============================] - 0s 2ms/step - loss: 10.8579 - mae: 2.3712\n",
      "Epoch 61/100\n",
      " 1/10 [==>...........................] - ETA: 0s - loss: 20.1044 - mae: 3.4575\n",
      "Epoch 61: mae did not improve from 2.30891\n",
      "10/10 [==============================] - 0s 2ms/step - loss: 10.2556 - mae: 2.3874\n",
      "Epoch 62/100\n",
      " 1/10 [==>...........................] - ETA: 0s - loss: 10.7407 - mae: 2.4321\n",
      "Epoch 62: mae did not improve from 2.30891\n",
      "10/10 [==============================] - 0s 2ms/step - loss: 9.6327 - mae: 2.3235\n",
      "Epoch 63/100\n",
      " 1/10 [==>...........................] - ETA: 0s - loss: 11.3026 - mae: 2.5133\n",
      "Epoch 63: mae did not improve from 2.30891\n",
      "10/10 [==============================] - 0s 2ms/step - loss: 10.5643 - mae: 2.4492\n",
      "Epoch 64/100\n",
      " 1/10 [==>...........................] - ETA: 0s - loss: 12.4906 - mae: 2.8864\n",
      "Epoch 64: mae did not improve from 2.30891\n",
      "10/10 [==============================] - 0s 2ms/step - loss: 10.5618 - mae: 2.3794\n",
      "Epoch 65/100\n",
      " 1/10 [==>...........................] - ETA: 0s - loss: 8.4733 - mae: 2.2767\n",
      "Epoch 65: mae did not improve from 2.30891\n",
      "10/10 [==============================] - 0s 2ms/step - loss: 9.8087 - mae: 2.3480\n",
      "Epoch 66/100\n",
      " 1/10 [==>...........................] - ETA: 0s - loss: 10.1850 - mae: 2.2799\n",
      "Epoch 66: mae improved from 2.30891 to 2.24431, saving model to best_model.h5\n",
      "10/10 [==============================] - 0s 4ms/step - loss: 8.9607 - mae: 2.2443\n",
      "Epoch 67/100\n",
      " 1/10 [==>...........................] - ETA: 0s - loss: 8.0519 - mae: 2.2351\n",
      "Epoch 67: mae did not improve from 2.24431\n",
      "10/10 [==============================] - 0s 2ms/step - loss: 8.8405 - mae: 2.2489\n",
      "Epoch 68/100\n",
      " 1/10 [==>...........................] - ETA: 0s - loss: 4.7837 - mae: 1.8214\n",
      "Epoch 68: mae did not improve from 2.24431\n",
      "10/10 [==============================] - 0s 2ms/step - loss: 9.1122 - mae: 2.2915\n",
      "Epoch 69/100\n",
      " 1/10 [==>...........................] - ETA: 0s - loss: 16.0923 - mae: 2.9613\n",
      "Epoch 69: mae did not improve from 2.24431\n",
      "10/10 [==============================] - 0s 2ms/step - loss: 9.3235 - mae: 2.3346\n",
      "Epoch 70/100\n"
     ]
    },
    {
     "name": "stdout",
     "output_type": "stream",
     "text": [
      " 1/10 [==>...........................] - ETA: 0s - loss: 9.5627 - mae: 2.1705\n",
      "Epoch 70: mae did not improve from 2.24431\n",
      "10/10 [==============================] - 0s 2ms/step - loss: 9.5864 - mae: 2.2917\n",
      "Epoch 71/100\n",
      " 1/10 [==>...........................] - ETA: 0s - loss: 8.5393 - mae: 2.3622\n",
      "Epoch 71: mae improved from 2.24431 to 2.22284, saving model to best_model.h5\n",
      "10/10 [==============================] - 0s 5ms/step - loss: 9.2363 - mae: 2.2228\n",
      "Epoch 72/100\n",
      " 1/10 [==>...........................] - ETA: 0s - loss: 10.0444 - mae: 2.5203\n",
      "Epoch 72: mae did not improve from 2.22284\n",
      "10/10 [==============================] - 0s 2ms/step - loss: 10.0329 - mae: 2.3797\n",
      "Epoch 73/100\n",
      " 1/10 [==>...........................] - ETA: 0s - loss: 11.0775 - mae: 2.5013\n",
      "Epoch 73: mae did not improve from 2.22284\n",
      "10/10 [==============================] - 0s 2ms/step - loss: 9.6038 - mae: 2.3208\n",
      "Epoch 74/100\n",
      " 1/10 [==>...........................] - ETA: 0s - loss: 7.2477 - mae: 2.2320\n",
      "Epoch 74: mae did not improve from 2.22284\n",
      "10/10 [==============================] - 0s 3ms/step - loss: 10.2496 - mae: 2.4174\n",
      "Epoch 75/100\n",
      " 1/10 [==>...........................] - ETA: 0s - loss: 10.8093 - mae: 2.4782\n",
      "Epoch 75: mae did not improve from 2.22284\n",
      "10/10 [==============================] - 0s 2ms/step - loss: 9.0686 - mae: 2.2639\n",
      "Epoch 76/100\n",
      " 1/10 [==>...........................] - ETA: 0s - loss: 7.2753 - mae: 2.1511\n",
      "Epoch 76: mae did not improve from 2.22284\n",
      "10/10 [==============================] - 0s 2ms/step - loss: 10.2446 - mae: 2.3685\n",
      "Epoch 77/100\n",
      " 1/10 [==>...........................] - ETA: 0s - loss: 5.5272 - mae: 1.8765\n",
      "Epoch 77: mae did not improve from 2.22284\n",
      "10/10 [==============================] - 0s 2ms/step - loss: 9.3632 - mae: 2.3380\n",
      "Epoch 78/100\n",
      " 1/10 [==>...........................] - ETA: 0s - loss: 13.0837 - mae: 2.6859\n",
      "Epoch 78: mae did not improve from 2.22284\n",
      "10/10 [==============================] - 0s 2ms/step - loss: 9.5230 - mae: 2.3218\n",
      "Epoch 79/100\n",
      " 1/10 [==>...........................] - ETA: 0s - loss: 12.4500 - mae: 2.8488\n",
      "Epoch 79: mae did not improve from 2.22284\n",
      "10/10 [==============================] - 0s 2ms/step - loss: 8.7615 - mae: 2.2411\n",
      "Epoch 80/100\n",
      " 1/10 [==>...........................] - ETA: 0s - loss: 10.8965 - mae: 2.5998\n",
      "Epoch 80: mae did not improve from 2.22284\n",
      "10/10 [==============================] - 0s 2ms/step - loss: 9.0124 - mae: 2.2377\n",
      "Epoch 81/100\n",
      " 1/10 [==>...........................] - ETA: 0s - loss: 9.0148 - mae: 2.3973\n",
      "Epoch 81: mae improved from 2.22284 to 2.19525, saving model to best_model.h5\n",
      "10/10 [==============================] - 0s 4ms/step - loss: 8.8428 - mae: 2.1952\n",
      "Epoch 82/100\n",
      " 1/10 [==>...........................] - ETA: 0s - loss: 10.3756 - mae: 2.0500\n",
      "Epoch 82: mae improved from 2.19525 to 2.15882, saving model to best_model.h5\n",
      "10/10 [==============================] - 0s 5ms/step - loss: 8.9804 - mae: 2.1588\n",
      "Epoch 83/100\n",
      " 1/10 [==>...........................] - ETA: 0s - loss: 9.9864 - mae: 2.3931\n",
      "Epoch 83: mae did not improve from 2.15882\n",
      "10/10 [==============================] - 0s 2ms/step - loss: 9.2086 - mae: 2.3284\n",
      "Epoch 84/100\n",
      " 1/10 [==>...........................] - ETA: 0s - loss: 5.4934 - mae: 1.6772\n",
      "Epoch 84: mae improved from 2.15882 to 2.06769, saving model to best_model.h5\n",
      "10/10 [==============================] - 0s 4ms/step - loss: 8.2551 - mae: 2.0677\n",
      "Epoch 85/100\n",
      " 1/10 [==>...........................] - ETA: 0s - loss: 8.0846 - mae: 2.3199\n",
      "Epoch 85: mae did not improve from 2.06769\n",
      "10/10 [==============================] - 0s 2ms/step - loss: 8.8722 - mae: 2.2668\n",
      "Epoch 86/100\n",
      " 1/10 [==>...........................] - ETA: 0s - loss: 7.3565 - mae: 2.2208\n",
      "Epoch 86: mae did not improve from 2.06769\n",
      "10/10 [==============================] - 0s 2ms/step - loss: 8.6215 - mae: 2.1828\n",
      "Epoch 87/100\n",
      " 1/10 [==>...........................] - ETA: 0s - loss: 11.0048 - mae: 2.6911\n",
      "Epoch 87: mae did not improve from 2.06769\n",
      "10/10 [==============================] - 0s 2ms/step - loss: 7.8561 - mae: 2.0974\n",
      "Epoch 88/100\n",
      " 1/10 [==>...........................] - ETA: 0s - loss: 7.5891 - mae: 2.1516\n",
      "Epoch 88: mae did not improve from 2.06769\n",
      "10/10 [==============================] - 0s 2ms/step - loss: 8.6285 - mae: 2.1512\n",
      "Epoch 89/100\n",
      " 1/10 [==>...........................] - ETA: 0s - loss: 6.0029 - mae: 1.9066\n",
      "Epoch 89: mae did not improve from 2.06769\n",
      "10/10 [==============================] - 0s 2ms/step - loss: 8.0178 - mae: 2.0985\n",
      "Epoch 90/100\n",
      " 1/10 [==>...........................] - ETA: 0s - loss: 9.3398 - mae: 2.1904\n",
      "Epoch 90: mae did not improve from 2.06769\n",
      "10/10 [==============================] - 0s 2ms/step - loss: 8.8986 - mae: 2.2814\n",
      "Epoch 91/100\n",
      " 1/10 [==>...........................] - ETA: 0s - loss: 11.6141 - mae: 2.6457\n",
      "Epoch 91: mae did not improve from 2.06769\n",
      "10/10 [==============================] - 0s 2ms/step - loss: 8.9995 - mae: 2.2193\n",
      "Epoch 92/100\n",
      " 1/10 [==>...........................] - ETA: 0s - loss: 7.2364 - mae: 2.0607\n",
      "Epoch 92: mae did not improve from 2.06769\n",
      "10/10 [==============================] - 0s 2ms/step - loss: 9.4668 - mae: 2.2106\n",
      "Epoch 93/100\n",
      " 1/10 [==>...........................] - ETA: 0s - loss: 13.0181 - mae: 2.8896\n",
      "Epoch 93: mae did not improve from 2.06769\n",
      "10/10 [==============================] - 0s 2ms/step - loss: 8.7004 - mae: 2.2312\n",
      "Epoch 94/100\n",
      " 1/10 [==>...........................] - ETA: 0s - loss: 6.2112 - mae: 2.0066\n",
      "Epoch 94: mae did not improve from 2.06769\n",
      "10/10 [==============================] - 0s 2ms/step - loss: 8.4567 - mae: 2.2237\n",
      "Epoch 95/100\n",
      " 1/10 [==>...........................] - ETA: 0s - loss: 10.6384 - mae: 2.4106\n",
      "Epoch 95: mae did not improve from 2.06769\n",
      "10/10 [==============================] - 0s 2ms/step - loss: 9.3105 - mae: 2.3024\n",
      "Epoch 96/100\n",
      " 1/10 [==>...........................] - ETA: 0s - loss: 8.2056 - mae: 2.0872\n",
      "Epoch 96: mae did not improve from 2.06769\n",
      "10/10 [==============================] - 0s 2ms/step - loss: 8.0510 - mae: 2.0864\n",
      "Epoch 97/100\n",
      " 1/10 [==>...........................] - ETA: 0s - loss: 4.6268 - mae: 1.7124\n",
      "Epoch 97: mae did not improve from 2.06769\n",
      "10/10 [==============================] - 0s 2ms/step - loss: 7.8723 - mae: 2.0791\n",
      "Epoch 98/100\n",
      " 1/10 [==>...........................] - ETA: 0s - loss: 8.0056 - mae: 2.2265\n",
      "Epoch 98: mae did not improve from 2.06769\n",
      "10/10 [==============================] - 0s 2ms/step - loss: 8.8569 - mae: 2.1802\n",
      "Epoch 99/100\n",
      " 1/10 [==>...........................] - ETA: 0s - loss: 5.7268 - mae: 1.9262\n",
      "Epoch 99: mae did not improve from 2.06769\n",
      "10/10 [==============================] - 0s 2ms/step - loss: 8.0073 - mae: 2.1694\n",
      "Epoch 100/100\n",
      " 1/10 [==>...........................] - ETA: 0s - loss: 8.8281 - mae: 2.2344\n",
      "Epoch 100: mae did not improve from 2.06769\n",
      "10/10 [==============================] - 0s 2ms/step - loss: 8.0922 - mae: 2.0931\n"
     ]
    }
   ],
   "source": [
    "history = model.fit(X_train, y_train, epochs =100, verbose=1, callbacks=[checkpoint])"
   ]
  },
  {
   "cell_type": "code",
   "execution_count": null,
   "id": "5a1a7a1a",
   "metadata": {},
   "outputs": [],
   "source": [
    "# Making predictions"
   ]
  },
  {
   "cell_type": "code",
   "execution_count": 93,
   "id": "8f5adfb4",
   "metadata": {},
   "outputs": [],
   "source": [
    "y_pred = model.predict(X_test)"
   ]
  },
  {
   "cell_type": "markdown",
   "id": "dc206def",
   "metadata": {},
   "source": [
    "### Comparing the Linear regression model and the neural network"
   ]
  },
  {
   "cell_type": "code",
   "execution_count": 95,
   "id": "e412c44d",
   "metadata": {},
   "outputs": [
    {
     "name": "stdout",
     "output_type": "stream",
     "text": [
      "Mean Absolute Error (MAE): 2.67\n",
      "Mean Squared Error (MSE): 11.05\n",
      "Root Mean Squared Error (RMSE): 3.32\n",
      "R-squared (Coefficient of Determination): 0.80\n"
     ]
    }
   ],
   "source": [
    "# Linear regression\n",
    "# Calculate mean absolute error\n",
    "mae = mean_absolute_error(y_test, Y_pred)\n",
    "print(f\"Mean Absolute Error (MAE): {mae:.2f}\")\n",
    "\n",
    "# Calculate mean squared error\n",
    "mse = mean_squared_error(y_test, Y_pred)\n",
    "print(f\"Mean Squared Error (MSE): {mse:.2f}\")\n",
    "\n",
    "# Calculate root mean squared error\n",
    "rmse = mse ** 0.5\n",
    "print(f\"Root Mean Squared Error (RMSE): {rmse:.2f}\")\n",
    "\n",
    "# Calculate R-squared\n",
    "r2 = r2_score(y_test, Y_pred)\n",
    "print(f\"R-squared (Coefficient of Determination): {r2:.2f}\")"
   ]
  },
  {
   "cell_type": "code",
   "execution_count": 96,
   "id": "6351c720",
   "metadata": {},
   "outputs": [
    {
     "name": "stdout",
     "output_type": "stream",
     "text": [
      "Mean Absolute Error (MAE): 1.97\n",
      "Mean Squared Error (MSE): 7.45\n",
      "Root Mean Squared Error (RMSE): 2.73\n",
      "R-squared (Coefficient of Determination): 0.87\n"
     ]
    }
   ],
   "source": [
    "# Neural network\n",
    "# Calculate mean absolute error\n",
    "mae = mean_absolute_error(y_test, y_pred)\n",
    "print(f\"Mean Absolute Error (MAE): {mae:.2f}\")\n",
    "\n",
    "# Calculate mean squared error\n",
    "mse = mean_squared_error(y_test, y_pred)\n",
    "print(f\"Mean Squared Error (MSE): {mse:.2f}\")\n",
    "\n",
    "# Calculate root mean squared error\n",
    "rmse = mse ** 0.5\n",
    "print(f\"Root Mean Squared Error (RMSE): {rmse:.2f}\")\n",
    "\n",
    "# Calculate R-squared\n",
    "r2 = r2_score(y_test, y_pred)\n",
    "print(f\"R-squared (Coefficient of Determination): {r2:.2f}\")"
   ]
  },
  {
   "cell_type": "code",
   "execution_count": null,
   "id": "14a454ec",
   "metadata": {},
   "outputs": [],
   "source": []
  }
 ],
 "metadata": {
  "kernelspec": {
   "display_name": "Python 3 (ipykernel)",
   "language": "python",
   "name": "python3"
  },
  "language_info": {
   "codemirror_mode": {
    "name": "ipython",
    "version": 3
   },
   "file_extension": ".py",
   "mimetype": "text/x-python",
   "name": "python",
   "nbconvert_exporter": "python",
   "pygments_lexer": "ipython3",
   "version": "3.9.7"
  }
 },
 "nbformat": 4,
 "nbformat_minor": 5
}
